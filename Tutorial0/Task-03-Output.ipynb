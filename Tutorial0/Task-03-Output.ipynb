{
 "cells": [
  {
   "cell_type": "markdown",
   "metadata": {},
   "source": [
    "### Task 03:\n",
    "\n",
    "In this task, you have to implement the Backpropagation method using Pytorch. This is particularly useful when the hypothesis function contains several weights.\n",
    "\n",
    "**Backpropagation**: Algorithm to caculate gradient for all the weights in the network with several weights. \n",
    "\n",
    "* It uses the `Chain Rule` to calcuate the gradient for multiple nodes at the same time. \n",
    "* In pytorch this is implemented using a `variable` data type and `loss.backward()` method to get the gradients"
   ]
  },
  {
   "cell_type": "code",
   "execution_count": 1,
   "metadata": {},
   "outputs": [],
   "source": [
    "# import the necessary libraries\n",
    "import torch\n",
    "import numpy as np\n",
    "import matplotlib.pyplot as plt\n",
    "import pandas as pd"
   ]
  },
  {
   "cell_type": "markdown",
   "metadata": {},
   "source": [
    "## Preliminaries - Pytorch Basics\n"
   ]
  },
  {
   "cell_type": "markdown",
   "metadata": {},
   "source": [
    "### Excercise 1 : \n",
    "Convert the following lists into a tensor and analyse it's properties.\n",
    "\n",
    "* Integer List $[0, 1, 2, 3, 4]$ to a $int$ torch tensor\n",
    "* Float List $[0.0, 1.0, 2.0, 3.0, 4.0]$ to a $float$ torch tensor"
   ]
  },
  {
   "cell_type": "code",
   "execution_count": 2,
   "metadata": {},
   "outputs": [
    {
     "name": "stdout",
     "output_type": "stream",
     "text": [
      "The dtype of tensor object after converting it to tensor:  torch.int32\n",
      "The type of tensor object after converting it to tensor:  torch.IntTensor\n",
      "The size of the ints_to_tensor:  torch.Size([4])\n",
      "The dimension of the ints_to_tensor:  1\n"
     ]
    }
   ],
   "source": [
    "int_list = [1,2,3,4]\n",
    "ints_to_tensor = torch.IntTensor(int_list)\n",
    "print(\"The dtype of tensor object after converting it to tensor: \", ints_to_tensor.dtype)\n",
    "print(\"The type of tensor object after converting it to tensor: \", ints_to_tensor.type())\n",
    "print(\"The size of the ints_to_tensor: \", ints_to_tensor.size())\n",
    "print(\"The dimension of the ints_to_tensor: \",ints_to_tensor.ndimension())"
   ]
  },
  {
   "cell_type": "code",
   "execution_count": 3,
   "metadata": {},
   "outputs": [
    {
     "name": "stdout",
     "output_type": "stream",
     "text": [
      "The dtype of tensor object after converting it to tensor:  torch.float32\n",
      "The type of tensor object after converting it to tensor:  torch.FloatTensor\n",
      "The size of the floats_to_tensor:  torch.Size([5])\n",
      "The dimension of the floats_to_tensor:  1\n"
     ]
    }
   ],
   "source": [
    "float_list = [0.0, 1.0, 2.0, 3.0, 4.0]\n",
    "floats_to_tensor = torch.FloatTensor(float_list)\n",
    "print(\"The dtype of tensor object after converting it to tensor: \", floats_to_tensor.dtype)\n",
    "print(\"The type of tensor object after converting it to tensor: \", floats_to_tensor.type())\n",
    "print(\"The size of the floats_to_tensor: \", floats_to_tensor.size())\n",
    "print(\"The dimension of the floats_to_tensor: \",floats_to_tensor.ndimension())"
   ]
  },
  {
   "cell_type": "markdown",
   "metadata": {},
   "source": [
    "### Excercise 2 :\n",
    "Convert the given numpy array to a torch tensor and again back to a numpy array"
   ]
  },
  {
   "cell_type": "code",
   "execution_count": 4,
   "metadata": {},
   "outputs": [
    {
     "name": "stdout",
     "output_type": "stream",
     "text": [
      "The numpy array:  [[11 12 13]\n",
      " [21 22 23]\n",
      " [31 32 33]]\n",
      "Type :  int64\n",
      "\n",
      "Numpy Array -> Tensor:\n",
      "The tensor after converting: tensor([[11, 12, 13],\n",
      "        [21, 22, 23],\n",
      "        [31, 32, 33]])\n",
      "Type after converting:  torch.int64\n",
      "\n",
      "Tensor -> Numpy Array:\n",
      "The numpy array after converting:  [[11 12 13]\n",
      " [21 22 23]\n",
      " [31 32 33]]\n",
      "Type after converting:  int64\n"
     ]
    }
   ],
   "source": [
    "my_list = [[11, 12, 13], [21, 22, 23], [31, 32, 33]]\n",
    "\n",
    "numpy_array = np.asarray(my_list)\n",
    "print(\"The numpy array: \", numpy_array)\n",
    "print(\"Type : \", numpy_array.dtype)\n",
    "\n",
    "tensor_array = torch.from_numpy(numpy_array)\n",
    "print(\"\\nNumpy Array -> Tensor:\")\n",
    "print(\"The tensor after converting:\", tensor_array)\n",
    "print(\"Type after converting: \", tensor_array.dtype)\n",
    "\n",
    "new_numpy_array = tensor_array.numpy()\n",
    "print(\"\\nTensor -> Numpy Array:\")\n",
    "print(\"The numpy array after converting: \", new_numpy_array)\n",
    "print(\"Type after converting: \", new_numpy_array.dtype)"
   ]
  },
  {
   "cell_type": "markdown",
   "metadata": {},
   "source": [
    "### Excercise 3 :\n",
    "Determine the derivative of $y = 2x^{3} + x$ at $x = 1$"
   ]
  },
  {
   "cell_type": "code",
   "execution_count": 5,
   "metadata": {},
   "outputs": [
    {
     "name": "stdout",
     "output_type": "stream",
     "text": [
      "Value of Y at x=1 :  tensor(3., grad_fn=<AddBackward0>)\n",
      "Derivative of Y wrt x at x=1 :  tensor(7.)\n"
     ]
    }
   ],
   "source": [
    "x = torch.tensor(1.0, requires_grad = True)\n",
    "y = 2 * (x ** 3) + x\n",
    "y.backward()\n",
    "print(\"Value of Y at x=1 : \" , y)\n",
    "print(\"Derivative of Y wrt x at x=1 : \" , x.grad)"
   ]
  },
  {
   "cell_type": "markdown",
   "metadata": {},
   "source": [
    "### Excersie 4 :\n",
    "Determine the partial derivative of $y = uv + u^{2}$ at $u=1$ and $v=2$ with respect to $u$ and $v$."
   ]
  },
  {
   "cell_type": "code",
   "execution_count": 6,
   "metadata": {},
   "outputs": [
    {
     "name": "stdout",
     "output_type": "stream",
     "text": [
      "Value of y at u=1, v=2 :  tensor(3., grad_fn=<AddBackward0>)\n",
      "Partial Derivative of y wrt u :  tensor(4.)\n",
      "Partial Derivative of y wrt v :  tensor(1.)\n"
     ]
    }
   ],
   "source": [
    "u = torch.tensor(1.0, requires_grad=True)\n",
    "v = torch.tensor(2.0, requires_grad=True)\n",
    "y = (u * v) + (u**2)\n",
    "y.backward()\n",
    "print(\"Value of y at u=1, v=2 : \" , y)\n",
    "print(\"Partial Derivative of y wrt u : \" , u.grad)\n",
    "print(\"Partial Derivative of y wrt v : \" , v.grad)"
   ]
  },
  {
   "cell_type": "markdown",
   "metadata": {},
   "source": [
    "#### Hypothesis Function and Loss Function\n",
    "\n",
    "$y = x * w + b$\n",
    "\n",
    "$loss =(\\hat{y}-y)^2$"
   ]
  },
  {
   "cell_type": "markdown",
   "metadata": {},
   "source": [
    "Let us make use of a randomly-created sample dataset as follows"
   ]
  },
  {
   "cell_type": "code",
   "execution_count": 7,
   "metadata": {},
   "outputs": [],
   "source": [
    "#sample-dataset\n",
    "x_data = [1.0, 2.0, 3.0]\n",
    "y_data = [2.0, 4.0, 6.0]"
   ]
  },
  {
   "cell_type": "markdown",
   "metadata": {},
   "source": [
    "## Task: 03 - a\n",
    "Declare pytorch tensors for weight and bias and implement the forward and loss function of our model"
   ]
  },
  {
   "cell_type": "code",
   "execution_count": 8,
   "metadata": {},
   "outputs": [],
   "source": [
    "# Define w = 1 and b = -1 for y = wx + b\n",
    "# Note that w,b are learnable paramteter \n",
    "# i.e., you are going to take the derivative of the tensor(s).\n",
    "w = torch.tensor([1.0], requires_grad=True)\n",
    "b = torch.tensor([-1.0], requires_grad=True)\n",
    "\n",
    "assert w.item() == 1\n",
    "assert b.item() == -1\n",
    "assert w.requires_grad == True\n",
    "assert b.requires_grad == True"
   ]
  },
  {
   "cell_type": "code",
   "execution_count": 9,
   "metadata": {},
   "outputs": [],
   "source": [
    "# Function for forward pass to predict y\n",
    "def forward(x):\n",
    "    return x*w + b\n",
    "\n",
    "# Function to calcuate the loss of the model\n",
    "# Loss is the square of difference of prediction and actual value\n",
    "def loss(y_pred,y_actual):\n",
    "    return (y_pred-y_actual)**2"
   ]
  },
  {
   "cell_type": "markdown",
   "metadata": {},
   "source": [
    "Calculate $y_{pred}$ for $x=4$ without training the model"
   ]
  },
  {
   "cell_type": "code",
   "execution_count": 10,
   "metadata": {},
   "outputs": [],
   "source": [
    "y_pred_without_train = forward(4)"
   ]
  },
  {
   "cell_type": "markdown",
   "metadata": {},
   "source": [
    "Begin Training"
   ]
  },
  {
   "cell_type": "code",
   "execution_count": 11,
   "metadata": {},
   "outputs": [
    {
     "name": "stdout",
     "output_type": "stream",
     "text": [
      "Epoch: 1 | Loss: 8.32815933227539 | w: 1.368575930595398\n",
      "Epoch: 2 | Loss: 4.635132312774658 | w: 1.641068696975708\n",
      "Epoch: 3 | Loss: 2.6127521991729736 | w: 1.842525839805603\n",
      "Epoch: 4 | Loss: 1.5045195817947388 | w: 1.991465449333191\n",
      "Epoch: 5 | Loss: 0.8966817855834961 | w: 2.1015784740448\n",
      "Epoch: 6 | Loss: 0.5628984570503235 | w: 2.182986259460449\n",
      "Epoch: 7 | Loss: 0.3793121576309204 | w: 2.2431719303131104\n",
      "Epoch: 8 | Loss: 0.2781200110912323 | w: 2.287667751312256\n",
      "Epoch: 9 | Loss: 0.22218374907970428 | w: 2.3205642700195312\n",
      "Epoch: 10 | Loss: 0.19114667177200317 | w: 2.3448848724365234\n"
     ]
    }
   ],
   "source": [
    "# In this method, we learn the dataset multiple times (called epochs)\n",
    "# Each time, the weight (w) gets updates using the graident decent algorithm based on weights of the previous epoch\n",
    "\n",
    "alpha = 0.01 # Let us set learning rate as 0.01\n",
    "weight_list = []\n",
    "loss_list=[]\n",
    "\n",
    "# Training loop\n",
    "for epoch in range(10):\n",
    "    total_loss = 0\n",
    "    count = 0\n",
    "    \n",
    "    for x, y in zip(x_data, y_data):\n",
    "        \n",
    "        y_pred = forward(x) # Forward pass\n",
    "        current_loss = loss(y_pred,y) # Loss\n",
    "        total_loss += current_loss\n",
    "        current_loss.backward() # Backpropagation\n",
    "        \n",
    "        w.data = w.data - alpha * w.grad.item() # update weights\n",
    "\n",
    "        # Manually zero the gradients after updating weights\n",
    "        w.grad.data.zero_()\n",
    "        \n",
    "        count += 1\n",
    "        \n",
    "    avg_mse = total_loss / count        \n",
    "    print(f\"Epoch: {epoch+1} | Loss: {avg_mse.item()} | w: {w.item()}\")\n",
    "    weight_list.append(w)\n",
    "    loss_list.append(avg_mse)  "
   ]
  },
  {
   "cell_type": "markdown",
   "metadata": {},
   "source": [
    "Calculate $y_{pred}$ for $x=4$ after training the model"
   ]
  },
  {
   "cell_type": "code",
   "execution_count": 12,
   "metadata": {},
   "outputs": [
    {
     "name": "stdout",
     "output_type": "stream",
     "text": [
      "Actual Y Value for x=4 : 8\n",
      "Predicted Y Value before training :  3.0\n",
      "Predicted Y Value after training :  8.379539489746094\n"
     ]
    }
   ],
   "source": [
    "y_pred_with_train = forward(4)\n",
    "\n",
    "print(\"Actual Y Value for x=4 : 8\")\n",
    "print(\"Predicted Y Value before training : \" , y_pred_without_train.item())\n",
    "print(\"Predicted Y Value after training : \" , y_pred_with_train.item())"
   ]
  },
  {
   "cell_type": "markdown",
   "metadata": {},
   "source": [
    "## Task: 03 - b\n",
    "Repeat **Task:03 - a** for the quadratic model defined below"
   ]
  },
  {
   "cell_type": "markdown",
   "metadata": {},
   "source": [
    "#### Using backward propagation for quadratic model\n",
    "\n",
    "$\\hat{y} = x^2*w_{2} + x*w_{1}$\n",
    "\n",
    "$loss = (\\hat{y}-y)^2$\n",
    "\n",
    "* Using Dummy values of x and y\n",
    "\n",
    "`x = 1,2,3,4,5`\n",
    "`y = 1,6,15,28,45`"
   ]
  },
  {
   "cell_type": "code",
   "execution_count": 13,
   "metadata": {},
   "outputs": [],
   "source": [
    "x_data = [1.0, 2.0, 3.0, 4.0, 5.0]\n",
    "y_data = [1.0, 6.0, 15.0, 28, 45]"
   ]
  },
  {
   "cell_type": "code",
   "execution_count": 14,
   "metadata": {},
   "outputs": [
    {
     "data": {
      "image/png": "[encoded data removed]",
      "text/plain": [
       "<Figure size 432x288 with 1 Axes>"
      ]
     },
     "metadata": {
      "needs_background": "light"
     },
     "output_type": "display_data"
    }
   ],
   "source": [
    "# Visualize the given dataset\n",
    "plt.plot(x_data,y_data)\n",
    "plt.show()"
   ]
  },
  {
   "cell_type": "code",
   "execution_count": 15,
   "metadata": {},
   "outputs": [],
   "source": [
    "# Initialize w2 and w1 with randon values\n",
    "w_1 = torch.tensor([1.0], requires_grad=True)\n",
    "w_2 = torch.tensor([1.0], requires_grad=True)"
   ]
  },
  {
   "cell_type": "code",
   "execution_count": 16,
   "metadata": {},
   "outputs": [],
   "source": [
    "# Quadratic forward pass based on the function above. Taking b as zero for now\n",
    "def quad_forward(x):\n",
    "    return w_1*(x**2)+w_2*x\n",
    "\n",
    "# Loss fucntion as per the defination above\n",
    "def loss(y_pred,y_actual):\n",
    "    return (y_pred-y_actual)**2"
   ]
  },
  {
   "cell_type": "markdown",
   "metadata": {},
   "source": [
    "Calculate $y_{pred}$ for $x=6$ without training the model"
   ]
  },
  {
   "cell_type": "code",
   "execution_count": 17,
   "metadata": {},
   "outputs": [],
   "source": [
    "y_pred_without_train = quad_forward(6)"
   ]
  },
  {
   "cell_type": "markdown",
   "metadata": {},
   "source": [
    "Begin Training"
   ]
  },
  {
   "cell_type": "code",
   "execution_count": 18,
   "metadata": {},
   "outputs": [
    {
     "name": "stdout",
     "output_type": "stream",
     "text": [
      "Epoch: 1 | Loss: 19.670841217041016 | w1: 1.7099769115447998 | w2: 1.1621068716049194\n",
      "Epoch: 2 | Loss: 6.430711269378662 | w1: 1.610548496246338 | w2: 1.115532636642456\n",
      "Epoch: 3 | Loss: 4.341702938079834 | w1: 1.629080057144165 | w2: 1.099595308303833\n",
      "Epoch: 4 | Loss: 4.463932037353516 | w1: 1.6303775310516357 | w2: 1.0794039964675903\n",
      "Epoch: 5 | Loss: 4.349801063537598 | w1: 1.6341499090194702 | w2: 1.060043454170227\n",
      "Epoch: 6 | Loss: 4.273285865783691 | w1: 1.6375246047973633 | w2: 1.0407702922821045\n",
      "Epoch: 7 | Loss: 4.193112373352051 | w1: 1.6409205198287964 | w2: 1.0216909646987915\n",
      "Epoch: 8 | Loss: 4.115159511566162 | w1: 1.644276738166809 | w2: 1.0027880668640137\n",
      "Epoch: 9 | Loss: 4.038552284240723 | w1: 1.6476027965545654 | w2: 0.9840622544288635\n",
      "Epoch: 10 | Loss: 3.9633827209472656 | w1: 1.65089750289917 | w2: 0.9655115008354187\n",
      "Epoch: 11 | Loss: 3.8896148204803467 | w1: 1.654161810874939 | w2: 0.9471341967582703\n",
      "Epoch: 12 | Loss: 3.817220687866211 | w1: 1.6573951244354248 | w2: 0.928928554058075\n",
      "Epoch: 13 | Loss: 3.7461726665496826 | w1: 1.660598635673523 | w2: 0.9108932614326477\n",
      "Epoch: 14 | Loss: 3.6764445304870605 | w1: 1.6637717485427856 | w2: 0.8930264711380005\n",
      "Epoch: 15 | Loss: 3.6080145835876465 | w1: 1.6669154167175293 | w2: 0.8753268718719482\n",
      "Epoch: 16 | Loss: 3.5408616065979004 | w1: 1.670029878616333 | w2: 0.8577927947044373\n",
      "Epoch: 17 | Loss: 3.4749622344970703 | w1: 1.6731152534484863 | w2: 0.8404226303100586\n",
      "Epoch: 18 | Loss: 3.4102847576141357 | w1: 1.6761715412139893 | w2: 0.8232148885726929\n",
      "Epoch: 19 | Loss: 3.3468120098114014 | w1: 1.6791993379592896 | w2: 0.8061680793762207\n",
      "Epoch: 20 | Loss: 3.2845165729522705 | w1: 1.6821985244750977 | w2: 0.7892804741859436\n",
      "Epoch: 21 | Loss: 3.2233805656433105 | w1: 1.6851699352264404 | w2: 0.7725509405136108\n",
      "Epoch: 22 | Loss: 3.163391590118408 | w1: 1.688113808631897 | w2: 0.7559778690338135\n",
      "Epoch: 23 | Loss: 3.1045126914978027 | w1: 1.6910297870635986 | w2: 0.7395595908164978\n",
      "Epoch: 24 | Loss: 3.04672908782959 | w1: 1.6939187049865723 | w2: 0.7232949137687683\n",
      "Epoch: 25 | Loss: 2.990025758743286 | w1: 1.6967805624008179 | w2: 0.7071822285652161\n",
      "Epoch: 26 | Loss: 2.934373140335083 | w1: 1.6996155977249146 | w2: 0.6912202835083008\n",
      "Epoch: 27 | Loss: 2.8797547817230225 | w1: 1.7024239301681519 | w2: 0.6754074692726135\n",
      "Epoch: 28 | Loss: 2.8261539936065674 | w1: 1.7052063941955566 | w2: 0.659742534160614\n",
      "Epoch: 29 | Loss: 2.773554563522339 | w1: 1.7079628705978394 | w2: 0.6442241668701172\n",
      "Epoch: 30 | Loss: 2.7219345569610596 | w1: 1.7106932401657104 | w2: 0.6288508772850037\n",
      "Epoch: 31 | Loss: 2.6712708473205566 | w1: 1.7133980989456177 | w2: 0.6136212944984436\n",
      "Epoch: 32 | Loss: 2.621551990509033 | w1: 1.7160779237747192 | w2: 0.5985341668128967\n",
      "Epoch: 33 | Loss: 2.572758436203003 | w1: 1.7187325954437256 | w2: 0.5835880637168884\n",
      "Epoch: 34 | Loss: 2.5248758792877197 | w1: 1.7213623523712158 | w2: 0.5687816739082336\n",
      "Epoch: 35 | Loss: 2.4778826236724854 | w1: 1.7239676713943481 | w2: 0.5541138052940369\n",
      "Epoch: 36 | Loss: 2.4317634105682373 | w1: 1.7265485525131226 | w2: 0.5395830273628235\n",
      "Epoch: 37 | Loss: 2.3865020275115967 | w1: 1.7291052341461182 | w2: 0.5251880884170532\n",
      "Epoch: 38 | Loss: 2.342083692550659 | w1: 1.7316380739212036 | w2: 0.510927677154541\n",
      "Epoch: 39 | Loss: 2.298491954803467 | w1: 1.7341471910476685 | w2: 0.4968006908893585\n",
      "Epoch: 40 | Loss: 2.2557120323181152 | w1: 1.736633062362671 | w2: 0.4828057885169983\n",
      "Epoch: 41 | Loss: 2.2137269973754883 | w1: 1.7390953302383423 | w2: 0.46894168853759766\n",
      "Epoch: 42 | Loss: 2.1725239753723145 | w1: 1.74153470993042 | w2: 0.4552072286605835\n",
      "Epoch: 43 | Loss: 2.1320881843566895 | w1: 1.743951439857483 | w2: 0.4416012763977051\n",
      "Epoch: 44 | Loss: 2.092405319213867 | w1: 1.7463454008102417 | w2: 0.4281224012374878\n",
      "Epoch: 45 | Loss: 2.053462028503418 | w1: 1.7487173080444336 | w2: 0.41476961970329285\n",
      "Epoch: 46 | Loss: 2.0152411460876465 | w1: 1.7510664463043213 | w2: 0.4015416204929352\n",
      "Epoch: 47 | Loss: 1.977731704711914 | w1: 1.7533941268920898 | w2: 0.3884373605251312\n",
      "Epoch: 48 | Loss: 1.9409242868423462 | w1: 1.755699872970581 | w2: 0.3754555881023407\n",
      "Epoch: 49 | Loss: 1.9047966003417969 | w1: 1.757983922958374 | w2: 0.36259517073631287\n",
      "Epoch: 50 | Loss: 1.869340181350708 | w1: 1.7602466344833374 | w2: 0.34985506534576416\n",
      "Epoch: 51 | Loss: 1.8345476388931274 | w1: 1.7624883651733398 | w2: 0.3372340798377991\n",
      "Epoch: 52 | Loss: 1.8004045486450195 | w1: 1.764709234237671 | w2: 0.32473108172416687\n",
      "Epoch: 53 | Loss: 1.766897201538086 | w1: 1.766909122467041 | w2: 0.3123449683189392\n",
      "Epoch: 54 | Loss: 1.7340103387832642 | w1: 1.7690885066986084 | w2: 0.3000746965408325\n",
      "Epoch: 55 | Loss: 1.701735258102417 | w1: 1.7712475061416626 | w2: 0.28791916370391846\n",
      "Epoch: 56 | Loss: 1.6700595617294312 | w1: 1.7733861207962036 | w2: 0.2758772373199463\n",
      "Epoch: 57 | Loss: 1.6389776468276978 | w1: 1.7755051851272583 | w2: 0.2639479637145996\n",
      "Epoch: 58 | Loss: 1.6084731817245483 | w1: 1.777604103088379 | w2: 0.2521301805973053\n",
      "Epoch: 59 | Loss: 1.578535795211792 | w1: 1.7796835899353027 | w2: 0.24042290449142456\n",
      "Epoch: 60 | Loss: 1.549156665802002 | w1: 1.7817434072494507 | w2: 0.22882501780986786\n",
      "Epoch: 61 | Loss: 1.520322322845459 | w1: 1.78378427028656 | w2: 0.21733567118644714\n",
      "Epoch: 62 | Loss: 1.492027997970581 | w1: 1.7858058214187622 | w2: 0.2059536725282669\n",
      "Epoch: 63 | Loss: 1.4642534255981445 | w1: 1.7878084182739258 | w2: 0.19467811286449432\n",
      "Epoch: 64 | Loss: 1.4370014667510986 | w1: 1.7897924184799194 | w2: 0.1835079789161682\n",
      "Epoch: 65 | Loss: 1.4102556705474854 | w1: 1.7917578220367432 | w2: 0.17244228720664978\n",
      "Epoch: 66 | Loss: 1.3840065002441406 | w1: 1.7937047481536865 | w2: 0.16148003935813904\n",
      "Epoch: 67 | Loss: 1.358245849609375 | w1: 1.7956336736679077 | w2: 0.15062032639980316\n",
      "Epoch: 68 | Loss: 1.3329664468765259 | w1: 1.7975444793701172 | w2: 0.13986217975616455\n",
      "Epoch: 69 | Loss: 1.3081586360931396 | w1: 1.7994375228881836 | w2: 0.12920458614826202\n",
      "Epoch: 70 | Loss: 1.2838106155395508 | w1: 1.8013126850128174 | w2: 0.11864663660526276\n",
      "Epoch: 71 | Loss: 1.2599154710769653 | w1: 1.8031704425811768 | w2: 0.10818740725517273\n",
      "Epoch: 72 | Loss: 1.2364667654037476 | w1: 1.8050107955932617 | w2: 0.09782599657773972\n",
      "Epoch: 73 | Loss: 1.2134513854980469 | w1: 1.8068337440490723 | w2: 0.08756142854690552\n",
      "Epoch: 74 | Loss: 1.190863847732544 | w1: 1.8086398839950562 | w2: 0.07739287614822388\n",
      "Epoch: 75 | Loss: 1.1687015295028687 | w1: 1.8104290962219238 | w2: 0.067319355905056\n",
      "Epoch: 76 | Loss: 1.1469495296478271 | w1: 1.8122016191482544 | w2: 0.05734003335237503\n",
      "Epoch: 77 | Loss: 1.1256020069122314 | w1: 1.8139575719833374 | w2: 0.04745401814579964\n",
      "Epoch: 78 | Loss: 1.1046502590179443 | w1: 1.8156967163085938 | w2: 0.0376603789627552\n",
      "Epoch: 79 | Loss: 1.0840911865234375 | w1: 1.817420244216919 | w2: 0.02795841544866562\n",
      "Epoch: 80 | Loss: 1.0639140605926514 | w1: 1.8191272020339966 | w2: 0.018347082659602165\n",
      "Epoch: 81 | Loss: 1.0441125631332397 | w1: 1.820818543434143 | w2: 0.008825712837278843\n",
      "Epoch: 82 | Loss: 1.0246798992156982 | w1: 1.8224937915802002 | w2: -0.0006067296490073204\n",
      "Epoch: 83 | Loss: 1.0056073665618896 | w1: 1.8241534233093262 | w2: -0.009950952604413033\n",
      "Epoch: 84 | Loss: 0.9868906736373901 | w1: 1.8257975578308105 | w2: -0.019207805395126343\n",
      "Epoch: 85 | Loss: 0.9685209393501282 | w1: 1.8274261951446533 | w2: -0.028378114104270935\n",
      "Epoch: 86 | Loss: 0.9504930377006531 | w1: 1.8290398120880127 | w2: -0.03746265918016434\n",
      "Epoch: 87 | Loss: 0.9328028559684753 | w1: 1.8306381702423096 | w2: -0.046462297439575195\n",
      "Epoch: 88 | Loss: 0.9154413342475891 | w1: 1.8322217464447021 | w2: -0.05537775158882141\n",
      "Epoch: 89 | Loss: 0.8984050750732422 | w1: 1.83379065990448 | w2: -0.06420981138944626\n",
      "Epoch: 90 | Loss: 0.8816840052604675 | w1: 1.8353445529937744 | w2: -0.07295937091112137\n",
      "Epoch: 91 | Loss: 0.8652714490890503 | w1: 1.8368840217590332 | w2: -0.08162709325551987\n",
      "Epoch: 92 | Loss: 0.8491684198379517 | w1: 1.838409185409546 | w2: -0.09021376073360443\n",
      "Epoch: 93 | Loss: 0.8333638906478882 | w1: 1.8399202823638916 | w2: -0.09872013330459595\n",
      "Epoch: 94 | Loss: 0.8178545832633972 | w1: 1.8414167165756226 | w2: -0.10714709758758545\n",
      "Epoch: 95 | Loss: 0.802628219127655 | w1: 1.8428994417190552 | w2: -0.11549517512321472\n",
      "Epoch: 96 | Loss: 0.7876907587051392 | w1: 1.8443684577941895 | w2: -0.12376518547534943\n",
      "Epoch: 97 | Loss: 0.773030161857605 | w1: 1.8458234071731567 | w2: -0.13195794820785522\n",
      "Epoch: 98 | Loss: 0.7586407661437988 | w1: 1.8472650051116943 | w2: -0.14007404446601868\n",
      "Epoch: 99 | Loss: 0.7445210218429565 | w1: 1.8486931324005127 | w2: -0.14811421930789948\n",
      "Epoch: 100 | Loss: 0.7306647300720215 | w1: 1.850108027458191 | w2: -0.15607918798923492\n"
     ]
    }
   ],
   "source": [
    "# In this method, we learn the dataset multiple times (called epochs)\n",
    "# Each time, the weight (w) gets updates using the graident decent algorithm based on weights of the previous epoch\n",
    "\n",
    "alpha = 0.0012 # Let us set learning rate as 0.01\n",
    "weight_list = []\n",
    "loss_list=[]\n",
    "\n",
    "# Training loop\n",
    "for epoch in range(100):\n",
    "    total_loss = 0\n",
    "    count = 0\n",
    "    \n",
    "    for x, y in zip(x_data, y_data):\n",
    "        \n",
    "        y_pred = quad_forward(x)\n",
    "        current_loss = loss(y_pred, y)\n",
    "        total_loss += current_loss\n",
    "        current_loss.backward()\n",
    "        \n",
    "        w_1.data = w_1.data - alpha * w_1.grad.item()\n",
    "        w_2.data = w_2.data - alpha * w_2.grad.item()\n",
    "        \n",
    "        # Manually zero the gradients after updating weights\n",
    "        w_1.grad.data.zero_()\n",
    "        w_2.grad.data.zero_()\n",
    "        \n",
    "        count += 1\n",
    "        \n",
    "    avg_mse = total_loss / count        \n",
    "    print(f\"Epoch: {epoch+1} | Loss: {avg_mse.item()} | w1: {w_1.item()} | w2: {w_2.item()}\")\n",
    "    weight_list.append(w)\n",
    "    loss_list.append(avg_mse)\n",
    "    \n"
   ]
  },
  {
   "cell_type": "markdown",
   "metadata": {},
   "source": [
    "Calculate $y_{pred}$ for $x=4$ after training the model"
   ]
  },
  {
   "cell_type": "code",
   "execution_count": 19,
   "metadata": {},
   "outputs": [
    {
     "name": "stdout",
     "output_type": "stream",
     "text": [
      "Actual Y Value for x=4 : 66\n",
      "Predicted Y Value before training :  42.0\n",
      "Predicted Y Value after training :  65.66741180419922\n"
     ]
    }
   ],
   "source": [
    "y_pred_with_train = quad_forward(6)\n",
    "\n",
    "print(\"Actual Y Value for x=4 : 66\")\n",
    "print(\"Predicted Y Value before training : \" , y_pred_without_train.item())\n",
    "print(\"Predicted Y Value after training : \" , y_pred_with_train.item())"
   ]
  }
 ],
 "metadata": {
  "kernelspec": {
   "display_name": "Python 3 (ipykernel)",
   "language": "python",
   "name": "python3"
  },
  "language_info": {
   "codemirror_mode": {
    "name": "ipython",
    "version": 3
   },
   "file_extension": ".py",
   "mimetype": "text/x-python",
   "name": "python",
   "nbconvert_exporter": "python",
   "pygments_lexer": "ipython3",
   "version": "3.10.4"
  }
 },
 "nbformat": 4,
 "nbformat_minor": 4
}
