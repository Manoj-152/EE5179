{
 "cells": [
  {
   "cell_type": "markdown",
   "metadata": {},
   "source": [
    "## Task 04: Linear Regression Pytorch Way\n",
    "\n",
    "There is a rythm to implement the pytorch programs\n",
    "\n",
    "* Model and network\n",
    "    - Forward pass\n",
    "* Loss and Optimizer\n",
    "* Training loop\n",
    "\n",
    "We will use the same linear regression example as before (Task 02 and Task 03) for this task and use pytorch natively for all the coding implementations"
   ]
  },
  {
   "cell_type": "code",
   "execution_count": 1,
   "metadata": {},
   "outputs": [],
   "source": [
    "#import necessary libraries\n",
    "import numpy as np\n",
    "import pandas as pd\n",
    "import matplotlib.pyplot as plt\n",
    "import torch"
   ]
  },
  {
   "cell_type": "markdown",
   "metadata": {},
   "source": [
    "Let us make use of a randomly-created sample dataset as follows"
   ]
  },
  {
   "cell_type": "code",
   "execution_count": 2,
   "metadata": {},
   "outputs": [],
   "source": [
    "#sample-dataset\n",
    "x_data = torch.Tensor([[1.0], [2.0],[3.0]])\n",
    "y_data = torch.Tensor([[2.0], [4.0],[6.0]])"
   ]
  },
  {
   "cell_type": "markdown",
   "metadata": {},
   "source": [
    "## Task: 04 - a\n",
    "Define a Pytorch Model Class that takes care of executing our hypothesis function defined as a linear model as follows:\n",
    "$y = x * w + b$"
   ]
  },
  {
   "cell_type": "code",
   "execution_count": 3,
   "metadata": {},
   "outputs": [],
   "source": [
    "## Model network and forward pass\n",
    "\n",
    "class Model(torch.nn.Module):\n",
    "    def __init__(self):\n",
    "        \"\"\"\n",
    "        In the constructor we instantiate 2 nn.linear module\n",
    "        \"\"\"\n",
    "        super(Model, self).__init__()\n",
    "        self.linear = torch.nn.Linear(1,1) # One data in and one out for x and y\n",
    "        \n",
    "    def forward(self, x):\n",
    "        \"\"\"\n",
    "        In forward function we accept the input variable and we return variable for the output\n",
    "        We can use the modules defined in the constructor and arbitary operations\n",
    "        on the variable as well\"\"\"\n",
    "        y_pred = self.linear(x)\n",
    "        return y_pred\n",
    "\n",
    "# Our model\n",
    "model = Model()"
   ]
  },
  {
   "cell_type": "markdown",
   "metadata": {},
   "source": [
    "## Task: 04 - b\n",
    "Define the loss-function criterion (MSE Loss in our case) and the optimizer (the function which performs gradient descent). \\\\\n",
    "\n",
    "Specifically, define an SGD optimizer with a learning-rate of 0.01"
   ]
  },
  {
   "cell_type": "code",
   "execution_count": 4,
   "metadata": {},
   "outputs": [
    {
     "name": "stderr",
     "output_type": "stream",
     "text": [
      "/home/sanvik/.local/lib/python3.10/site-packages/torch/nn/_reduction.py:42: UserWarning: size_average and reduce args will be deprecated, please use reduction='sum' instead.\n",
      "  warnings.warn(warning.format(ret))\n"
     ]
    }
   ],
   "source": [
    "# Loss function and optimizer.\n",
    "# model.parameters() automatically calcuates the gradient for all the weights in the network\n",
    "\n",
    "criterion = torch.nn.MSELoss(size_average = False)\n",
    "optimizer = torch.optim.SGD(model.parameters(), lr = 0.01)"
   ]
  },
  {
   "cell_type": "markdown",
   "metadata": {},
   "source": [
    "## Task: 04 - c\n",
    "Implement a training-loop using Pytorch Syntax. The main-components involved in this loop are:\n",
    "* Forward Pass\n",
    "* Computing Loss\n",
    "* Setting Gradients to zero\n",
    "* Calculating Gradients\n",
    "* Updating weights"
   ]
  },
  {
   "cell_type": "code",
   "execution_count": 8,
   "metadata": {},
   "outputs": [
    {
     "name": "stdout",
     "output_type": "stream",
     "text": [
      "Epoch: 1, Loss:  0.005036034621298313\n",
      "Epoch: 2, Loss:  0.004963676445186138\n",
      "Epoch: 3, Loss:  0.004892370663583279\n",
      "Epoch: 4, Loss:  0.004822020884603262\n",
      "Epoch: 5, Loss:  0.004752729553729296\n",
      "Epoch: 6, Loss:  0.004684465005993843\n",
      "Epoch: 7, Loss:  0.004617116879671812\n",
      "Epoch: 8, Loss:  0.004550746642053127\n",
      "Epoch: 9, Loss:  0.004485363606363535\n",
      "Epoch: 10, Loss:  0.004420874640345573\n",
      "Epoch: 11, Loss:  0.004357348196208477\n",
      "Epoch: 12, Loss:  0.004294734448194504\n",
      "Epoch: 13, Loss:  0.00423299428075552\n",
      "Epoch: 14, Loss:  0.004172184970229864\n",
      "Epoch: 15, Loss:  0.004112229682505131\n",
      "Epoch: 16, Loss:  0.004053123295307159\n",
      "Epoch: 17, Loss:  0.00399484857916832\n",
      "Epoch: 18, Loss:  0.003937440924346447\n",
      "Epoch: 19, Loss:  0.003880891017615795\n",
      "Epoch: 20, Loss:  0.00382508453913033\n",
      "Epoch: 21, Loss:  0.0037701460532844067\n",
      "Epoch: 22, Loss:  0.0037159170024096966\n",
      "Epoch: 23, Loss:  0.003662555944174528\n",
      "Epoch: 24, Loss:  0.0036098880227655172\n",
      "Epoch: 25, Loss:  0.0035580177791416645\n",
      "Epoch: 26, Loss:  0.0035068881697952747\n",
      "Epoch: 27, Loss:  0.0034564873203635216\n",
      "Epoch: 28, Loss:  0.0034068278037011623\n",
      "Epoch: 29, Loss:  0.0033578784205019474\n",
      "Epoch: 30, Loss:  0.0033095874823629856\n",
      "Epoch: 31, Loss:  0.003262047888711095\n",
      "Epoch: 32, Loss:  0.0032151590567082167\n",
      "Epoch: 33, Loss:  0.003168937051668763\n",
      "Epoch: 34, Loss:  0.00312341027893126\n",
      "Epoch: 35, Loss:  0.00307850306853652\n",
      "Epoch: 36, Loss:  0.003034286666661501\n",
      "Epoch: 37, Loss:  0.002990666078403592\n",
      "Epoch: 38, Loss:  0.0029476680792868137\n",
      "Epoch: 39, Loss:  0.0029053164180368185\n",
      "Epoch: 40, Loss:  0.002863570349290967\n",
      "Epoch: 41, Loss:  0.0028224284760653973\n",
      "Epoch: 42, Loss:  0.0027818516828119755\n",
      "Epoch: 43, Loss:  0.002741866745054722\n",
      "Epoch: 44, Loss:  0.002702470403164625\n",
      "Epoch: 45, Loss:  0.0026636235415935516\n",
      "Epoch: 46, Loss:  0.002625328954309225\n",
      "Epoch: 47, Loss:  0.0025876336731016636\n",
      "Epoch: 48, Loss:  0.002550422679632902\n",
      "Epoch: 49, Loss:  0.002513778628781438\n",
      "Epoch: 50, Loss:  0.002477634232491255\n",
      "Epoch: 51, Loss:  0.00244203582406044\n",
      "Epoch: 52, Loss:  0.002406925894320011\n",
      "Epoch: 53, Loss:  0.0023723479826003313\n",
      "Epoch: 54, Loss:  0.0023382508661597967\n",
      "Epoch: 55, Loss:  0.0023046291898936033\n",
      "Epoch: 56, Loss:  0.002271522767841816\n",
      "Epoch: 57, Loss:  0.0022388813085854053\n",
      "Epoch: 58, Loss:  0.0022066975943744183\n",
      "Epoch: 59, Loss:  0.0021749960724264383\n",
      "Epoch: 60, Loss:  0.002143755555152893\n",
      "Epoch: 61, Loss:  0.0021129068918526173\n",
      "Epoch: 62, Loss:  0.0020825627725571394\n",
      "Epoch: 63, Loss:  0.002052633324638009\n",
      "Epoch: 64, Loss:  0.002023129491135478\n",
      "Epoch: 65, Loss:  0.001994054764509201\n",
      "Epoch: 66, Loss:  0.0019653839990496635\n",
      "Epoch: 67, Loss:  0.0019371561938896775\n",
      "Epoch: 68, Loss:  0.0019093102309852839\n",
      "Epoch: 69, Loss:  0.0018818627577275038\n",
      "Epoch: 70, Loss:  0.0018548194784671068\n",
      "Epoch: 71, Loss:  0.0018281582742929459\n",
      "Epoch: 72, Loss:  0.0018018899718299508\n",
      "Epoch: 73, Loss:  0.00177598069421947\n",
      "Epoch: 74, Loss:  0.001750492723658681\n",
      "Epoch: 75, Loss:  0.0017253122059628367\n",
      "Epoch: 76, Loss:  0.0017005346016958356\n",
      "Epoch: 77, Loss:  0.0016760958824306726\n",
      "Epoch: 78, Loss:  0.0016520039644092321\n",
      "Epoch: 79, Loss:  0.0016282530268654227\n",
      "Epoch: 80, Loss:  0.001604842022061348\n",
      "Epoch: 81, Loss:  0.0015817945823073387\n",
      "Epoch: 82, Loss:  0.0015590470284223557\n",
      "Epoch: 83, Loss:  0.0015366352163255215\n",
      "Epoch: 84, Loss:  0.0015145712532103062\n",
      "Epoch: 85, Loss:  0.0014928082237020135\n",
      "Epoch: 86, Loss:  0.0014713298296555877\n",
      "Epoch: 87, Loss:  0.0014502041740342975\n",
      "Epoch: 88, Loss:  0.0014293675776571035\n",
      "Epoch: 89, Loss:  0.0014088063035160303\n",
      "Epoch: 90, Loss:  0.001388578093610704\n",
      "Epoch: 91, Loss:  0.0013686229940503836\n",
      "Epoch: 92, Loss:  0.0013489511329680681\n",
      "Epoch: 93, Loss:  0.0013295573880895972\n",
      "Epoch: 94, Loss:  0.0013104556128382683\n",
      "Epoch: 95, Loss:  0.0012916151899844408\n",
      "Epoch: 96, Loss:  0.0012730504386126995\n",
      "Epoch: 97, Loss:  0.0012547662481665611\n",
      "Epoch: 98, Loss:  0.0012367165181785822\n",
      "Epoch: 99, Loss:  0.0012189457193017006\n",
      "Epoch: 100, Loss:  0.001201426493935287\n",
      "Predicted Y Value for x=4 :  7.9601545333862305\n"
     ]
    }
   ],
   "source": [
    "# Training loop\n",
    "loss_list, epoch_list = [], []\n",
    "\n",
    "for epoch in range (100):\n",
    "    # Using forward pass to calcuate the prediction\n",
    "    y_pred = model(x_data)\n",
    "    \n",
    "    # Compute and print the loss\n",
    "    loss = criterion(y_pred, y_data)\n",
    "    print(f'Epoch: {epoch+1}, Loss:  {loss.item()}')\n",
    "    \n",
    "    # Making the gradients zero and then doing a backward pass to calcuate\n",
    "    # And then update the weights\n",
    "    optimizer.zero_grad()\n",
    "    loss.backward()\n",
    "    optimizer.step()\n",
    "    \n",
    "    epoch_list.append(epoch+1)\n",
    "    loss_list.append(loss.item())    \n",
    "    \n",
    "# After training\n",
    "test_val = torch.Tensor([4.0])\n",
    "print('Predicted Y Value for x=4 : ', model.forward(test_val).item())"
   ]
  },
  {
   "cell_type": "code",
   "execution_count": 9,
   "metadata": {},
   "outputs": [
    {
     "data": {
      "image/png": "[encoded data removed]",
      "text/plain": [
       "<Figure size 432x288 with 1 Axes>"
      ]
     },
     "metadata": {
      "needs_background": "light"
     },
     "output_type": "display_data"
    }
   ],
   "source": [
    "def plot_model_training(epoch_list, loss_list):\n",
    "    plt.plot(epoch_list, loss_list)\n",
    "    plt.xlabel('Epochs')\n",
    "    plt.ylabel('Loss')\n",
    "    plt.show()\n",
    "    \n",
    "plot_model_training(epoch_list, loss_list)"
   ]
  }
 ],
 "metadata": {
  "kernelspec": {
   "display_name": "Python 3 (ipykernel)",
   "language": "python",
   "name": "python3"
  },
  "language_info": {
   "codemirror_mode": {
    "name": "ipython",
    "version": 3
   },
   "file_extension": ".py",
   "mimetype": "text/x-python",
   "name": "python",
   "nbconvert_exporter": "python",
   "pygments_lexer": "ipython3",
   "version": "3.8.10"
  }
 },
 "nbformat": 4,
 "nbformat_minor": 4
}
