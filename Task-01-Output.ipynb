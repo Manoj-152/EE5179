{
 "cells": [
  {
   "cell_type": "markdown",
   "metadata": {},
   "source": [
    "## Task: 01 \n",
    "\n",
    "Let us consider the task of developing a linear model as follows:\n",
    "\n",
    "Linear model: $y=w*x$\n",
    "\n",
    "* In this task, you will create a linear model for given `x_data` and `y_data` (Supervised Learning). \n",
    "* The main goal of this task is to make you faimilr with python and provde a hands-on expereince.\n",
    "* You have to create functions definitions for the forward-pass and loss-function and write a code snippet to find the optimal value of $w$\n",
    "* Eventually we also plot the value of `w` against the difference in the prediction and actual value.  "
   ]
  },
  {
   "cell_type": "code",
   "execution_count": 1,
   "metadata": {},
   "outputs": [],
   "source": [
    "#First let us import necessary libraries\n",
    "import numpy as np\n",
    "import matplotlib.pyplot as plt"
   ]
  },
  {
   "cell_type": "markdown",
   "metadata": {},
   "source": [
    "Let us make use of a randomly-created sample dataset"
   ]
  },
  {
   "cell_type": "code",
   "execution_count": 2,
   "metadata": {},
   "outputs": [],
   "source": [
    "#sample-dataset\n",
    "x_data = [1.0, 2.0, 3.0]\n",
    "y_data = [2.0, 4.0, 6.0]"
   ]
  },
  {
   "cell_type": "markdown",
   "metadata": {},
   "source": [
    "## Task: 01 - a\n",
    "Implement the forward and loss functions"
   ]
  },
  {
   "cell_type": "code",
   "execution_count": 3,
   "metadata": {},
   "outputs": [],
   "source": [
    "#forward function to calculate y_pred for a given x according to the linear model defined above\n",
    "def forward(x):\n",
    "    return x*w\n",
    "\n",
    "#loss-function to compute the mean-squared error between y_pred and y_actual\n",
    "def loss(y_pred, y_actual):\n",
    "    return (y_pred-y_actual)**2"
   ]
  },
  {
   "cell_type": "markdown",
   "metadata": {},
   "source": [
    "## Task: 01 - b\n",
    "Compute the loss for different values of $w$ and identify the $w$ with minimum loss value"
   ]
  },
  {
   "cell_type": "code",
   "execution_count": 4,
   "metadata": {
    "scrolled": false
   },
   "outputs": [
    {
     "name": "stdout",
     "output_type": "stream",
     "text": [
      "\n",
      "Weight :  0.0\n",
      "Average Mean Squared Error :  18.666666666666668\n",
      "\n",
      "Weight :  0.1\n",
      "Average Mean Squared Error :  16.846666666666668\n",
      "\n",
      "Weight :  0.2\n",
      "Average Mean Squared Error :  15.120000000000003\n",
      "\n",
      "Weight :  0.30000000000000004\n",
      "Average Mean Squared Error :  13.486666666666665\n",
      "\n",
      "Weight :  0.4\n",
      "Average Mean Squared Error :  11.946666666666667\n",
      "\n",
      "Weight :  0.5\n",
      "Average Mean Squared Error :  10.5\n",
      "\n",
      "Weight :  0.6000000000000001\n",
      "Average Mean Squared Error :  9.146666666666663\n",
      "\n",
      "Weight :  0.7000000000000001\n",
      "Average Mean Squared Error :  7.886666666666666\n",
      "\n",
      "Weight :  0.8\n",
      "Average Mean Squared Error :  6.719999999999999\n",
      "\n",
      "Weight :  0.9\n",
      "Average Mean Squared Error :  5.646666666666666\n",
      "\n",
      "Weight :  1.0\n",
      "Average Mean Squared Error :  4.666666666666667\n",
      "\n",
      "Weight :  1.1\n",
      "Average Mean Squared Error :  3.779999999999999\n",
      "\n",
      "Weight :  1.2000000000000002\n",
      "Average Mean Squared Error :  2.986666666666665\n",
      "\n",
      "Weight :  1.3\n",
      "Average Mean Squared Error :  2.2866666666666657\n",
      "\n",
      "Weight :  1.4000000000000001\n",
      "Average Mean Squared Error :  1.6799999999999995\n",
      "\n",
      "Weight :  1.5\n",
      "Average Mean Squared Error :  1.1666666666666667\n",
      "\n",
      "Weight :  1.6\n",
      "Average Mean Squared Error :  0.746666666666666\n",
      "\n",
      "Weight :  1.7000000000000002\n",
      "Average Mean Squared Error :  0.4199999999999995\n",
      "\n",
      "Weight :  1.8\n",
      "Average Mean Squared Error :  0.1866666666666665\n",
      "\n",
      "Weight :  1.9000000000000001\n",
      "Average Mean Squared Error :  0.046666666666666586\n",
      "\n",
      "Weight :  2.0\n",
      "Average Mean Squared Error :  0.0\n",
      "\n",
      "Weight :  2.1\n",
      "Average Mean Squared Error :  0.046666666666666835\n",
      "\n",
      "Weight :  2.2\n",
      "Average Mean Squared Error :  0.18666666666666698\n",
      "\n",
      "Weight :  2.3000000000000003\n",
      "Average Mean Squared Error :  0.42000000000000054\n",
      "\n",
      "Weight :  2.4000000000000004\n",
      "Average Mean Squared Error :  0.7466666666666679\n",
      "\n",
      "Weight :  2.5\n",
      "Average Mean Squared Error :  1.1666666666666667\n",
      "\n",
      "Weight :  2.6\n",
      "Average Mean Squared Error :  1.6800000000000008\n",
      "\n",
      "Weight :  2.7\n",
      "Average Mean Squared Error :  2.2866666666666693\n",
      "\n",
      "Weight :  2.8000000000000003\n",
      "Average Mean Squared Error :  2.986666666666668\n",
      "\n",
      "Weight :  2.9000000000000004\n",
      "Average Mean Squared Error :  3.780000000000003\n",
      "\n",
      "Weight :  3.0\n",
      "Average Mean Squared Error :  4.666666666666667\n",
      "\n",
      "Weight :  3.1\n",
      "Average Mean Squared Error :  5.646666666666668\n",
      "\n",
      "Weight :  3.2\n",
      "Average Mean Squared Error :  6.720000000000003\n",
      "\n",
      "Weight :  3.3000000000000003\n",
      "Average Mean Squared Error :  7.886666666666668\n",
      "\n",
      "Weight :  3.4000000000000004\n",
      "Average Mean Squared Error :  9.14666666666667\n",
      "\n",
      "Weight :  3.5\n",
      "Average Mean Squared Error :  10.5\n",
      "\n",
      "Weight :  3.6\n",
      "Average Mean Squared Error :  11.94666666666667\n",
      "\n",
      "Weight :  3.7\n",
      "Average Mean Squared Error :  13.486666666666673\n",
      "\n",
      "Weight :  3.8000000000000003\n",
      "Average Mean Squared Error :  15.120000000000005\n",
      "\n",
      "Weight :  3.9000000000000004\n",
      "Average Mean Squared Error :  16.84666666666667\n",
      "\n",
      "Weight :  4.0\n",
      "Average Mean Squared Error :  18.666666666666668\n"
     ]
    }
   ],
   "source": [
    "#initialize wieght and loss lists to monitor\n",
    "weight_list=[]\n",
    "loss_list=[]\n",
    "\n",
    "for w in np.arange(0.0,4.1,0.1): # w can vary between 0 and 4 (both included) with a step-size of 0.1\n",
    "    print(\"\\nWeight : \", w)\n",
    "    total_loss=0 \n",
    "    count = 0\n",
    "    for x, y in zip (x_data, y_data):\n",
    "        y_pred = forward(x)\n",
    "        current_loss = loss(y_pred, y)\n",
    "        total_loss += current_loss\n",
    "        count += 1\n",
    "        \n",
    "    avg_mse = total_loss / count\n",
    "        \n",
    "    print(\"Average Mean Squared Error : \", avg_mse)\n",
    "    weight_list.append(w)\n",
    "    loss_list.append(avg_mse)"
   ]
  },
  {
   "cell_type": "code",
   "execution_count": 5,
   "metadata": {},
   "outputs": [
    {
     "data": {
      "image/png": "[encoded data removed]",
      "text/plain": [
       "<Figure size 432x288 with 1 Axes>"
      ]
     },
     "metadata": {
      "needs_background": "light"
     },
     "output_type": "display_data"
    }
   ],
   "source": [
    "plt.plot(weight_list, loss_list)\n",
    "plt.ylabel('Loss')\n",
    "plt.xlabel('Weight (w)')\n",
    "plt.show()"
   ]
  }
 ],
 "metadata": {
  "kernelspec": {
   "display_name": "Python 3 (ipykernel)",
   "language": "python",
   "name": "python3"
  },
  "language_info": {
   "codemirror_mode": {
    "name": "ipython",
    "version": 3
   },
   "file_extension": ".py",
   "mimetype": "text/x-python",
   "name": "python",
   "nbconvert_exporter": "python",
   "pygments_lexer": "ipython3",
   "version": "3.8.10"
  }
 },
 "nbformat": 4,
 "nbformat_minor": 4
}
