{
 "cells": [
  {
   "cell_type": "markdown",
   "metadata": {},
   "source": [
    "## Task 04: Linear Regression Pytorch Way\n",
    "\n",
    "There is a rythm to implement the pytorch programs\n",
    "\n",
    "* Model and network\n",
    "    - Forward pass\n",
    "* Loss and Optimizer\n",
    "* Training loop\n",
    "\n",
    "We will use the same linear regression example as before (Task 02 and Task 03) for this task and use pytorch natively for all the coding implementations"
   ]
  },
  {
   "cell_type": "code",
   "execution_count": null,
   "metadata": {},
   "outputs": [],
   "source": [
    "#import necessary libraries\n",
    "import numpy as np\n",
    "import pandas as pd\n",
    "import matplotlib.pyplot as plt\n",
    "import torch"
   ]
  },
  {
   "cell_type": "markdown",
   "metadata": {},
   "source": [
    "Let us make use of a randomly-created sample dataset as follows"
   ]
  },
  {
   "cell_type": "code",
   "execution_count": null,
   "metadata": {},
   "outputs": [],
   "source": [
    "#sample-dataset\n",
    "x_data = torch.Tensor([[1.0], [2.0],[3.0]])\n",
    "y_data = torch.Tensor([[2.0], [4.0],[6.0]])"
   ]
  },
  {
   "cell_type": "markdown",
   "metadata": {},
   "source": [
    "## Task: 04 - a\n",
    "Define a Pytorch Model Class that takes care of executing our hypothesis function defined as a linear model as follows:\n",
    "$y = x * w + b$"
   ]
  },
  {
   "cell_type": "code",
   "execution_count": null,
   "metadata": {},
   "outputs": [],
   "source": [
    "## Model network and forward pass\n",
    "\n",
    "class Model(torch.nn.Module):\n",
    "    def __init__(self):\n",
    "        \"\"\"\n",
    "        In the constructor we instantiate 2 nn.linear module\n",
    "        \"\"\"\n",
    "        super(Model, self).__init__()\n",
    "        \n",
    "        # YOUR CODE STARTS HERE\n",
    "        self.linear =  # One data in and one out for x and y\n",
    "        # YOUR CODE ENDS HERE\n",
    "        \n",
    "    def forward(self, x):\n",
    "        \"\"\"\n",
    "        In forward function we accept the input variable and we return variable for the output\n",
    "        We can use the modules defined in the constructor and arbitary operations\n",
    "        on the variable as well\"\"\"\n",
    "        # YOUR CODE STARTS HERE\n",
    "        y_pred =  \n",
    "        # YOUR CODE ENDS HERE\n",
    "        return y_pred\n",
    "\n",
    "# Our model\n",
    "model = Model()"
   ]
  },
  {
   "cell_type": "markdown",
   "metadata": {},
   "source": [
    "## Task: 04 - b\n",
    "Define the loss-function criterion (MSE Loss in our case) and the optimizer (the function which performs gradient descent). \\\\\n",
    "\n",
    "Specifically, define an SGD optimizer with a learning-rate of 0.01"
   ]
  },
  {
   "cell_type": "code",
   "execution_count": null,
   "metadata": {},
   "outputs": [],
   "source": [
    "# Loss function and optimizer.\n",
    "# model.parameters() automatically calcuates the gradient for all the weights in the network\n",
    "\n",
    "## YOUR CODE STARTS HERE\n",
    "criterion = \n",
    "optimizer = \n",
    "## YOUR CODE ENDS HERE"
   ]
  },
  {
   "cell_type": "markdown",
   "metadata": {},
   "source": [
    "## Task: 04 - c\n",
    "Implement a training-loop using Pytorch Syntax. The main-components involved in this loop are:\n",
    "* Forward Pass\n",
    "* Computing Loss\n",
    "* Setting Gradients to zero\n",
    "* Calculating Gradients\n",
    "* Updating weights"
   ]
  },
  {
   "cell_type": "code",
   "execution_count": null,
   "metadata": {},
   "outputs": [],
   "source": [
    "# Training loop\n",
    "loss_list, epoch_list = [], []\n",
    "\n",
    "for epoch in range (100):\n",
    "    # Using forward pass to calcuate the prediction\n",
    "    ## YOUR CODE STARTS HERE\n",
    "        \n",
    "    ## YOUR CODE ENDS HERE\n",
    "    \n",
    "    # Compute and print the loss\n",
    "    ## YOUR CODE STARTS HERE\n",
    "    loss = \n",
    "    ## YOUR CODE ENDS HERE\n",
    "    print(f'Epoch: {epoch+1}, Loss:  {loss.item()}')\n",
    "    \n",
    "    # Making the gradients zero and then doing a backward pass to calcuate\n",
    "    # And then update the weights\n",
    "    ## YOUR CODE STARTS HERE\n",
    "    \n",
    "    ## YOUR CODE ENDS HERE\n",
    "    optimizer.zero_grad()\n",
    "    loss.backward()\n",
    "    optimizer.step()\n",
    "    \n",
    "    epoch_list.append(epoch+1)\n",
    "    loss_list.append(loss.item())    \n",
    "    \n",
    "# After training\n",
    "test_val = torch.Tensor([4.0])\n",
    "print('Predicted Y Value for x=4 : ', model.forward(test_val).item())"
   ]
  },
  {
   "cell_type": "code",
   "execution_count": null,
   "metadata": {},
   "outputs": [],
   "source": [
    "def plot_model_training(epoch_list, loss_list):\n",
    "    plt.plot(epoch_list, loss_list)\n",
    "    plt.xlabel('Epochs')\n",
    "    plt.ylabel('Loss')\n",
    "    plt.show()\n",
    "    \n",
    "plot_model_training(epoch_list, loss_list)"
   ]
  }
 ],
 "metadata": {
  "kernelspec": {
   "display_name": "Python 3 (ipykernel)",
   "language": "python",
   "name": "python3"
  },
  "language_info": {
   "codemirror_mode": {
    "name": "ipython",
    "version": 3
   },
   "file_extension": ".py",
   "mimetype": "text/x-python",
   "name": "python",
   "nbconvert_exporter": "python",
   "pygments_lexer": "ipython3",
   "version": "3.10.4"
  }
 },
 "nbformat": 4,
 "nbformat_minor": 4
}
